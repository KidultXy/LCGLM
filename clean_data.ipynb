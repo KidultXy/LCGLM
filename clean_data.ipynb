{
 "cells": [
  {
   "cell_type": "code",
   "execution_count": 1,
   "metadata": {
    "collapsed": true
   },
   "outputs": [],
   "source": [
    "import pandas as pd\n",
    "import numpy as np"
   ]
  },
  {
   "cell_type": "code",
   "execution_count": 2,
   "outputs": [],
   "source": [
    "df = pd.read_csv('lawzhidao_filter.csv')"
   ],
   "metadata": {
    "collapsed": false,
    "pycharm": {
     "name": "#%%\n"
    }
   }
  },
  {
   "cell_type": "code",
   "execution_count": 3,
   "outputs": [
    {
     "name": "stdout",
     "output_type": "stream",
     "text": [
      "                                     title question  \\\n",
      "0                     在法律中定金与订金的区别订金和定金哪个受      NaN   \n",
      "1                     盗窃罪的犯罪客体是什么，盗窃罪的犯罪主体      NaN   \n",
      "2                          非法微整形机构构成非法经营罪吗      NaN   \n",
      "3                            入室持刀行凶伤人能不能判刑      NaN   \n",
      "4  我在辅道正常右转进主道，主道有两个车，后面的车占用对向车道超车，撞了是谁的责任      NaN   \n",
      "\n",
      "                                               reply  is_best  \n",
      "0  “定金”是指当事人约定由一方向对方给付的，作为债权担保的一定数额的货币，它属于一种法律上的担...        1  \n",
      "1  盗窃罪的客体要件本罪侵犯的客体是公私财物的所有权。侵犯的对象，是国家、集体或个人的财物，一般...        1  \n",
      "2  符合要件就有可能。非法经营罪，是指未经许可经营专营、专卖物品或其他限制买卖的物品，买卖进出口...        1  \n",
      "3  对于入室持刀伤人涉嫌故意伤害刑事犯罪，一经定罪，故意伤害他人身体的，处三年以下有期徒刑、拘役...        1  \n",
      "4  发生交通事故，及时报警，有交警划分责任，出具交通事故认定书，根据责任的划分和损害情况协商解决...        0  \n"
     ]
    }
   ],
   "source": [
    "print(df.head())"
   ],
   "metadata": {
    "collapsed": false,
    "pycharm": {
     "name": "#%%\n"
    }
   }
  },
  {
   "cell_type": "code",
   "execution_count": 4,
   "outputs": [
    {
     "name": "stdout",
     "output_type": "stream",
     "text": [
      "<class 'pandas.core.frame.DataFrame'>\n",
      "RangeIndex: 36368 entries, 0 to 36367\n",
      "Data columns (total 4 columns):\n",
      " #   Column    Non-Null Count  Dtype \n",
      "---  ------    --------------  ----- \n",
      " 0   title     36368 non-null  object\n",
      " 1   question  7490 non-null   object\n",
      " 2   reply     36342 non-null  object\n",
      " 3   is_best   36368 non-null  int64 \n",
      "dtypes: int64(1), object(3)\n",
      "memory usage: 1.1+ MB\n",
      "None\n"
     ]
    }
   ],
   "source": [
    "print(df.info())"
   ],
   "metadata": {
    "collapsed": false,
    "pycharm": {
     "name": "#%%\n"
    }
   }
  },
  {
   "cell_type": "code",
   "execution_count": 5,
   "outputs": [],
   "source": [
    "# 丢弃question列\n",
    "df = df.drop('question', axis=1)"
   ],
   "metadata": {
    "collapsed": false,
    "pycharm": {
     "name": "#%%\n"
    }
   }
  },
  {
   "cell_type": "code",
   "execution_count": 6,
   "outputs": [],
   "source": [
    "# 根据标题分组并筛选保留同一标题下is_best为1的行，以及一标题下只有一行数据的行\n",
    "mask = (df['is_best'] == 1) | (df.groupby('title')['title'].transform('size') == 1)\n",
    "filtered_df = df[mask]"
   ],
   "metadata": {
    "collapsed": false,
    "pycharm": {
     "name": "#%%\n"
    }
   }
  },
  {
   "cell_type": "code",
   "execution_count": 7,
   "outputs": [
    {
     "name": "stdout",
     "output_type": "stream",
     "text": [
      "<class 'pandas.core.frame.DataFrame'>\n",
      "RangeIndex: 36368 entries, 0 to 36367\n",
      "Data columns (total 3 columns):\n",
      " #   Column   Non-Null Count  Dtype \n",
      "---  ------   --------------  ----- \n",
      " 0   title    36368 non-null  object\n",
      " 1   reply    36342 non-null  object\n",
      " 2   is_best  36368 non-null  int64 \n",
      "dtypes: int64(1), object(2)\n",
      "memory usage: 852.5+ KB\n",
      "None\n",
      "<class 'pandas.core.frame.DataFrame'>\n",
      "Int64Index: 20425 entries, 0 to 36367\n",
      "Data columns (total 3 columns):\n",
      " #   Column   Non-Null Count  Dtype \n",
      "---  ------   --------------  ----- \n",
      " 0   title    20425 non-null  object\n",
      " 1   reply    20411 non-null  object\n",
      " 2   is_best  20425 non-null  int64 \n",
      "dtypes: int64(1), object(2)\n",
      "memory usage: 638.3+ KB\n",
      "None\n"
     ]
    }
   ],
   "source": [
    "print(df.info())\n",
    "print(filtered_df.info())"
   ],
   "metadata": {
    "collapsed": false,
    "pycharm": {
     "name": "#%%\n"
    }
   }
  },
  {
   "cell_type": "code",
   "execution_count": 8,
   "outputs": [
    {
     "name": "stdout",
     "output_type": "stream",
     "text": [
      "Title: 2017农民工讨薪热线\n",
      "             title                                              reply  is_best\n",
      "4496   2017农民工讨薪热线  拖欠工资，不发工资、克扣工资可以打12###电话投诉，该电话是人力资源和社会保障局的电话。也...        1\n",
      "16987  2017农民工讨薪热线  用人单位拖欠工资，劳*者可以：一、向本单位劳*争议调解委员会申请调解；二、到劳*行政部门举报...        1\n",
      "\n",
      "Title: 一般借款申请成功多久钱能到？\n",
      "                title                                         reply  is_best\n",
      "14964  一般借款申请成功多久钱能到？  这要看您申请的平台与办理的业务而定，银行信用贷最快当天就能下款的，具体的还要看情况而定。        1\n",
      "30627  一般借款申请成功多久钱能到？              这要看您申请的平台与办理的业务而定，银行信用贷最快当天就能下款的        1\n",
      "\n",
      "Title: 个人交医保一年交多少钱\n",
      "             title                                              reply  is_best\n",
      "31009  个人交医保一年交多少钱  1、城镇职工养老保险缴费标准：企业职工的基本养老保险费由企业和职工共同缴纳，个体参保人员的基...        1\n",
      "31021  个人交医保一年交多少钱  1、城镇职工养老保险缴费标准：企业职工的基本养老保险费由企业和职工共同缴纳，个体参保人员的基...        1\n",
      "\n",
      "Title: 九级伤残能赔多少钱\n",
      "           title                                              reply  is_best\n",
      "17680  九级伤残能赔多少钱               九级伤残的赔偿额根据伤残性质和地域计算的，工伤赔偿和人损赔偿的标准不一样        1\n",
      "21940  九级伤残能赔多少钱  一、医疗费医疗费实报实销，包括住院期间、康复训练期间、工伤复发期间的医疗费用。1、职工治疗工...        1\n",
      "\n",
      "Title: 交通事故赔偿问题\n",
      "          title                                              reply  is_best\n",
      "27982  交通事故赔偿问题  对方没有法定责任垫付任何费用；事故善后不考虑谁买了什么保险这个因素。只按照“事实存在，持有凭...        1\n",
      "36231  交通事故赔偿问题  安心养伤，直至痊愈（医生认为已经能够恢复工作或者正常生活能力为止）。不需要考虑对方保险公司怎...        1\n",
      "\n",
      "Title: 你好。有律师在吗？\n",
      "          title                                              reply  is_best\n",
      "8736  你好。有律师在吗？                                 可以拨打法妞问答主页的电话咨询律师。        1\n",
      "8747  你好。有律师在吗？  申请执行时缴费，执行后不再收费诉讼费用交纳办法第十四条申请费分别按照下列标准交纳：（一）依法...        1\n",
      "\n",
      "Title: 借条怎么写\n",
      "       title                                              reply  is_best\n",
      "696    借条怎么写  写明借款事实、金额、利息以及还款时间，最后由借款人签名按手印，同时可以要求借款人写明身份证信...        1\n",
      "15784  借条怎么写  写借条的注意事项1、借条的书写人一定要由借款人书写，而不是由贷款人书写。这样可以防止借款人以...        1\n",
      "16397  借条怎么写  借条的基本内容包括：债权人姓名、借款金额（本外币）、利息计算、还款时间、违约（延迟偿还）罚金...        1\n",
      "\n",
      "Title: 农民工没合同如何讨薪\n",
      "            title                                              reply  is_best\n",
      "4524   农民工没合同如何讨薪  合同并不是唯一的证据，可以寻找其他证据拖欠工资，不发工资、克扣工资可以打12###电话投诉，...        1\n",
      "25554  农民工没合同如何讨薪  建议协商解决，如果协商不成，申请劳动仲裁；收集相关证据，如工资条，打卡记录、工服、工作往来信...        1\n",
      "\n",
      "Title: 十级伤残最低赔偿多少\n",
      "            title                                              reply  is_best\n",
      "20625  十级伤残最低赔偿多少  十级工伤赔偿标准医疗费：1、职工治疗工伤应当在签订服务协议的医疗机构就医，情况紧急时可以先到...        1\n",
      "21090  十级伤残最低赔偿多少  十级工伤赔偿标准医疗费：1、职工治疗工伤应当在签订服务协议的医疗机构就医，情况紧急时可以先到...        1\n",
      "\n",
      "Title: 如何申请离婚\n",
      "        title                                              reply  is_best\n",
      "12631  如何申请离婚  离婚的方式有两种，一种是登记离婚，另一种是诉讼离婚。一、依照我国《婚姻法》第31条的规定，男...        1\n",
      "30437  如何申请离婚  离婚有两种方式，协商不成的，夫妻一方可以起诉离婚单方面离婚的条件：感情破裂《婚姻法》第32条...        1\n",
      "\n",
      "Title: 张*雷可以取保候审吗\n",
      "            title                                              reply  is_best\n",
      "17293  张*雷可以取保候审吗  刑事诉讼法第六十五条明确规定，人*法*、人*检**和公安机关对有下列情形之一的犯罪嫌疑人、被...        1\n",
      "18339  张*雷可以取保候审吗  刑事诉讼法第六十五条明确规定，人*法*、人*检**和公安机关对有下列情形之一的犯罪嫌疑人、被...        1\n",
      "\n",
      "Title: 打5元10元麻将算赌博\n",
      "             title                                              reply  is_best\n",
      "16418  打5元10元麻将算赌博  构成赌博的前提条件是以营利为目的，其次是金额问题。关于《治安管理处罚法》第七十条“参与赌博赌...        1\n",
      "16717  打5元10元麻将算赌博  构成赌博的前提条件是以营利为目的，其次是金额问题。关于《治安管理处罚法》第七十条“参与赌博赌...        1\n",
      "\n",
      "Title: 接触接柱骨伤,是几级伤残\n",
      "              title                                              reply  \\\n",
      "10244  接触接柱骨伤,是几级伤残  伤残鉴定标准是由*家统一规定一个标准，再由地方按标准去实施，以维护伤残者的合法权益，促进社会...   \n",
      "10259  接触接柱骨伤,是几级伤残  1.首先要到当地劳动部门申请工伤认定，如果单位不申请的话，职工个人就必须在受伤之日起一年内申...   \n",
      "\n",
      "       is_best  \n",
      "10244        1  \n",
      "10259        1  \n",
      "\n",
      "Title: 最快的民工讨薪方式\n",
      "           title                                              reply  is_best\n",
      "4498   最快的民工讨薪方式  拖欠工资，不发工资、克扣工资可以打12###电话投诉，该电话是人力资源和社会保障局的电话。也...        1\n",
      "21164  最快的民工讨薪方式  农民工讨薪，已经成了有社会敏感度的话题。一般来说，企业不敢太为难农民工的，因为当年总理都为农...        1\n",
      "\n",
      "Title: 朋友借钱不还\n",
      "        title                                              reply  is_best\n",
      "25291  朋友借钱不还  债权债务纠纷，当事人协商不成可以通过诉讼的方式解决。注意准备好相关的证据，胜诉后，对方如果不...        1\n",
      "35612  朋友借钱不还  当遇到借钱不还的情况，作为债权人首先不要着急，而是应该马上找到律师询问，然后搜集证据，最后上...        1\n",
      "\n",
      "Title: 根据法律，生下孩子不抚养会被怎样处罚\n",
      "                   title                                              reply  \\\n",
      "8399  根据法律，生下孩子不抚养会被怎样处罚  遗弃罪。第二百六十一条对于年老、年幼、患病或者其他没有独立生活能力的人，负有扶养义务而拒绝扶...   \n",
      "8496  根据法律，生下孩子不抚养会被怎样处罚  遗弃罪第二百六十一条对于年老、年幼、患病或者其他没有独立生活能力的人，负有扶养义务而拒绝扶养...   \n",
      "\n",
      "      is_best  \n",
      "8399        1  \n",
      "8496        1  \n",
      "\n",
      "Title: 欠帐不还法院新政策\n",
      "          title                                              reply  is_best\n",
      "1508  欠帐不还法院新政策  当遇到欠钱不还的情况，作为债权人首先不要着急，而是应该马上找到律师询问，然后搜集证据，最后上...        1\n",
      "1723  欠帐不还法院新政策  当遇到借钱不还的情况，作为债权人首先不要着急，而是应该马上找到律师询问，然后搜集证据，最后上...        1\n",
      "\n",
      "Title: 欠钱不还怎么办\n",
      "         title                                              reply  is_best\n",
      "2122   欠钱不还怎么办  1、无力偿还会面临法院后果的，建议及债权人积极协商，争取延迟还款。债权人也会起诉你，然后申请...        1\n",
      "17274  欠钱不还怎么办  走法律途径。如果对方欠你的钱数目巨大，那么我们毫无疑问可以用法律维护自己的财产权益，这也是借...        1\n",
      "21580  欠钱不还怎么办                   债务纠纷，协商不成的，可以通过诉讼的方式解决。注意保留相关证据。        1\n",
      "30164  欠钱不还怎么办  钱优优的爸爸是当地有名的官员，所以优优从小家境优厚，但是优优的妈妈不想太早离开孩子，所以还一...        1\n",
      "\n",
      "Title: 江*劳动仲裁律师怎么收费\n",
      "             title                                              reply  is_best\n",
      "8313  江*劳动仲裁律师怎么收费  各地区有一定差异，大致如下：无财产争议案件：普通民事、经济、行政案件，不涉及财产的，根据案件...        1\n",
      "8708  江*劳动仲裁律师怎么收费  各地区有一定差异，大致如下：无财产争议案件：普通民事、经济、行政案件，不涉及财产的，根据案件...        1\n",
      "\n",
      "Title: 湖*省内异地公积金通用吗\n",
      "              title                                              reply  \\\n",
      "30989  湖*省内异地公积金通用吗  住建部明确规定公积金异地贷款应按以下流程办理：贷款城市公积金中心接受职工的异地贷款业务咨询，...   \n",
      "30994  湖*省内异地公积金通用吗  异地公积金需要持身份证、购房合同、异地贷款使用证明等资料前往申请贷款的公积金管理中心，将资料...   \n",
      "\n",
      "       is_best  \n",
      "30989        1  \n",
      "30994        1  \n",
      "\n",
      "Title: 省病假工资发放标准规定，广*省员工病假工资怎么算\n",
      "                          title  \\\n",
      "27549  省病假工资发放标准规定，广*省员工病假工资怎么算   \n",
      "32768  省病假工资发放标准规定，广*省员工病假工资怎么算   \n",
      "\n",
      "                                                   reply  is_best  \n",
      "27549  病假工资支付标准：根据员工在本企业的工龄按下述比例支付工龄不满2年者，为本人工资60%;已满...        1  \n",
      "32768  员工病假工资的计算方法如下：1、病假工资的基数按照以下三个原则确定：(1)劳动合同有约定的，...        1  \n",
      "\n",
      "Title: 离婚应该满足什么条件?\n",
      "             title                                              reply  is_best\n",
      "15591  离婚应该满足什么条件?  1、协议离婚双方自愿离婚的条件：其一，当事人须有离婚的合意。夫妻之间解除婚姻关系达成协议，是...        1\n",
      "18229  离婚应该满足什么条件?  1.性格不合；2.其中一方或双方，与第三人发生异性关系；3.与家人和亲属感情不合；4.男女双...        1\n",
      "\n",
      "Title: 网上做刷客那个怎么举报，我刚刚被骗了一千多块钱，,怎么办\n",
      "                              title                             reply  is_best\n",
      "23376  网上做刷客那个怎么举报，我刚刚被骗了一千多块钱，,怎么办  建议及时报警处理，可以拨打报警电话举报，也可以到当地派出所报案。        1\n",
      "23687  网上做刷客那个怎么举报，我刚刚被骗了一千多块钱，,怎么办                         建议立即报警处理。        1\n",
      "\n",
      "Title: 网络上赌博怎么举报\n",
      "           title       reply  is_best\n",
      "9294   网络上赌博怎么举报  直接向公安机关报案。        1\n",
      "32927  网络上赌博怎么举报   直接向公安局报案。        1\n",
      "\n",
      "Title: 请律师费用多少\n",
      "         title                                              reply  is_best\n",
      "6122   请律师费用多少  各地区有一定差异，大致如下：无财产争议案件：普通民事、经济、行政案件，不涉及财产的，根据案件...        1\n",
      "23271  请律师费用多少                          因案件不同地区不同律师费也不一样可以和律师协商收取        1\n",
      "\n",
      "Title: 这普惠快信，我借3000要还5000多，我现在剩2期不还高利贷，\n",
      "                                 title  \\\n",
      "2461  这普惠快信，我借3000要还5000多，我现在剩2期不还高利贷，   \n",
      "3339  这普惠快信，我借3000要还5000多，我现在剩2期不还高利贷，   \n",
      "\n",
      "                                                  reply  is_best  \n",
      "2461  民间借贷属于民事行为，受到民法和合同法的约束和保护。但根据《合同法》第二百一十一条规定：“自...        1  \n",
      "3339  民间借贷是一种民事法律行为合法的在法律上认定的高利。贷是指超过银行同期基准利率的4倍，也就是...        1  \n",
      "\n",
      "Title: 高利贷还不起怎么办\n",
      "           title                                              reply  is_best\n",
      "3476   高利贷还不起怎么办  1、家徒四壁。见过不少借高利贷的年轻人，为了偿还高利贷的债务，通常需要举全家之力偿还。那些贷...        1\n",
      "20529  高利贷还不起怎么办  根据法律规定，高利贷是不受法律保护的。你欠债不归还，对方找你麻烦，你可以选择报警，警方出面后...        1\n",
      "\n"
     ]
    }
   ],
   "source": [
    "# 根据标题进行分组\n",
    "groups = filtered_df.groupby('title')\n",
    "\n",
    "# 遍历每个分组并打印\n",
    "for title, group in groups:\n",
    "    if len(group) > 1:  # 只打印有多个行的分组\n",
    "        print(f\"Title: {title}\")\n",
    "        print(group)\n",
    "        print()"
   ],
   "metadata": {
    "collapsed": false,
    "pycharm": {
     "name": "#%%\n"
    }
   }
  },
  {
   "cell_type": "code",
   "execution_count": 9,
   "outputs": [
    {
     "name": "stderr",
     "output_type": "stream",
     "text": [
      "C:\\Users\\xy\\AppData\\Local\\Temp\\ipykernel_21492\\3847731293.py:2: SettingWithCopyWarning: \n",
      "A value is trying to be set on a copy of a slice from a DataFrame.\n",
      "Try using .loc[row_indexer,col_indexer] = value instead\n",
      "\n",
      "See the caveats in the documentation: https://pandas.pydata.org/pandas-docs/stable/user_guide/indexing.html#returning-a-view-versus-a-copy\n",
      "  filtered_df['is_filtered'] = 1\n",
      "C:\\Users\\xy\\AppData\\Local\\Temp\\ipykernel_21492\\3847731293.py:5: SettingWithCopyWarning: \n",
      "A value is trying to be set on a copy of a slice from a DataFrame.\n",
      "Try using .loc[row_indexer,col_indexer] = value instead\n",
      "\n",
      "See the caveats in the documentation: https://pandas.pydata.org/pandas-docs/stable/user_guide/indexing.html#returning-a-view-versus-a-copy\n",
      "  filtered_df['is_filtered'] = filtered_df.groupby('title')['is_filtered'].transform(lambda x: 0 if len(x) > 1 else x)\n"
     ]
    }
   ],
   "source": [
    "# 创建is_filtered列并设置默认值为1\n",
    "filtered_df['is_filtered'] = 1\n",
    "\n",
    "# 使用groupby和transform方法，设置具有相同标题的行的is_filtered属性为0\n",
    "filtered_df['is_filtered'] = filtered_df.groupby('title')['is_filtered'].transform(lambda x: 0 if len(x) > 1 else x)"
   ],
   "metadata": {
    "collapsed": false,
    "pycharm": {
     "name": "#%%\n"
    }
   }
  },
  {
   "cell_type": "code",
   "execution_count": 10,
   "outputs": [],
   "source": [
    "filtered_df.to_csv('filtered_data.csv')"
   ],
   "metadata": {
    "collapsed": false,
    "pycharm": {
     "name": "#%%\n"
    }
   }
  },
  {
   "cell_type": "code",
   "execution_count": 11,
   "outputs": [
    {
     "name": "stdout",
     "output_type": "stream",
     "text": [
      "                                     title  \\\n",
      "0                     在法律中定金与订金的区别订金和定金哪个受   \n",
      "1                     盗窃罪的犯罪客体是什么，盗窃罪的犯罪主体   \n",
      "2                          非法微整形机构构成非法经营罪吗   \n",
      "3                            入室持刀行凶伤人能不能判刑   \n",
      "4  我在辅道正常右转进主道，主道有两个车，后面的车占用对向车道超车，撞了是谁的责任   \n",
      "\n",
      "                                               reply  is_best  is_filtered  \n",
      "0  “定金”是指当事人约定由一方向对方给付的，作为债权担保的一定数额的货币，它属于一种法律上的担...        1            1  \n",
      "1  盗窃罪的客体要件本罪侵犯的客体是公私财物的所有权。侵犯的对象，是国家、集体或个人的财物，一般...        1            1  \n",
      "2  符合要件就有可能。非法经营罪，是指未经许可经营专营、专卖物品或其他限制买卖的物品，买卖进出口...        1            1  \n",
      "3  对于入室持刀伤人涉嫌故意伤害刑事犯罪，一经定罪，故意伤害他人身体的，处三年以下有期徒刑、拘役...        1            1  \n",
      "4  发生交通事故，及时报警，有交警划分责任，出具交通事故认定书，根据责任的划分和损害情况协商解决...        0            1  \n"
     ]
    }
   ],
   "source": [
    "print(filtered_df.head())"
   ],
   "metadata": {
    "collapsed": false,
    "pycharm": {
     "name": "#%%\n"
    }
   }
  },
  {
   "cell_type": "code",
   "execution_count": 12,
   "outputs": [
    {
     "name": "stdout",
     "output_type": "stream",
     "text": [
      "JSON数据已成功写入文件: result2.jsonl\n"
     ]
    }
   ],
   "source": [
    "df_json = filtered_df[['title','reply']]\n",
    "import json\n",
    "# 转换为JSON格式\n",
    "result = []\n",
    "for _, row in df_json.iterrows():\n",
    "    item = {\n",
    "        \"input\": '',\n",
    "        \"instruction\":row['title'],\n",
    "        \"output\": row['reply']\n",
    "    }\n",
    "    result.append(item)\n",
    "\n",
    "# 将JSON数据写入文件\n",
    "file_path = 'result2.jsonl'\n",
    "with open(file_path, 'w', encoding='utf-8') as file:\n",
    "    json.dump(result, file, indent=4, ensure_ascii=False)\n",
    "\n",
    "print(f\"JSON数据已成功写入文件: {file_path}\")"
   ],
   "metadata": {
    "collapsed": false,
    "pycharm": {
     "name": "#%%\n"
    }
   }
  },
  {
   "cell_type": "code",
   "execution_count": 2,
   "outputs": [],
   "source": [
    "import json\n",
    "\n",
    "# 读取JSONL文件\n",
    "# data\n",
    "# judical_examination_v2\n",
    "with open('data.json', 'r', encoding='utf-8') as file:\n",
    "    datas = json.load(file)\n",
    "\n",
    "result = []\n",
    "\n",
    "# 逐行处理JSON数据\n",
    "for data in datas:\n",
    "\n",
    "    # 提取chat内容\n",
    "    # instruction = data['query']\n",
    "    # output = data['response']\n",
    "    instruction = data['input']\n",
    "    output = data['output']\n",
    "\n",
    "    # 构建新的JSON数据格式\n",
    "    new_data = {\n",
    "        'instruction': instruction,\n",
    "        'input':'',\n",
    "        'output': output\n",
    "    }\n",
    "    result.append(new_data)\n",
    "\n",
    "# 将结果保存为JSON文件\n",
    "with open('result.json', 'w', encoding='utf-8') as output_file:\n",
    "    json.dump(result, output_file, indent=4, ensure_ascii=False)"
   ],
   "metadata": {
    "collapsed": false,
    "pycharm": {
     "name": "#%%\n"
    }
   }
  },
  {
   "cell_type": "code",
   "execution_count": 3,
   "outputs": [
    {
     "name": "stdout",
     "output_type": "stream",
     "text": [
      "JSON文件中包含 20411 个顶层JSON对象。\n"
     ]
    }
   ],
   "source": [
    "# 统计顶层JSON对象数量\n",
    "num_objects = 0\n",
    "file_path='data.json'\n",
    "with open(file_path, 'r', encoding='utf-8') as file:\n",
    "    data = json.load(file)\n",
    "    if isinstance(data, list):\n",
    "        num_objects = len(data)\n",
    "\n",
    "print(f\"JSON文件中包含 {num_objects} 个顶层JSON对象。\")"
   ],
   "metadata": {
    "collapsed": false,
    "pycharm": {
     "name": "#%%\n"
    }
   }
  }
 ],
 "metadata": {
  "kernelspec": {
   "display_name": "Python 3",
   "language": "python",
   "name": "python3"
  },
  "language_info": {
   "codemirror_mode": {
    "name": "ipython",
    "version": 2
   },
   "file_extension": ".py",
   "mimetype": "text/x-python",
   "name": "python",
   "nbconvert_exporter": "python",
   "pygments_lexer": "ipython2",
   "version": "2.7.6"
  }
 },
 "nbformat": 4,
 "nbformat_minor": 0
}